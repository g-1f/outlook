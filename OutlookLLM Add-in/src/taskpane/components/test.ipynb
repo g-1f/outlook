{
 "cells": [
  {
   "cell_type": "code",
   "execution_count": null,
   "metadata": {},
   "outputs": [],
   "source": [
    "    async def async_post_stream(\n",
    "        self,\n",
    "        path: str,\n",
    "        headers: Dict[str, str],\n",
    "        payload: Optional[Dict[str, Any]] = None,\n",
    "        timeout: Optional[int] = None,\n",
    "        chunk_size: int = 4096,\n",
    "    ) -> Optional[aiohttp.ClientResponse]:\n",
    "        \"\"\"\n",
    "        Perform an asynchronous POST request for streaming responses.\n",
    "        \n",
    "        Args:\n",
    "            path: API endpoint path\n",
    "            headers: HTTP headers\n",
    "            payload: Request payload\n",
    "            timeout: Request timeout in seconds\n",
    "            chunk_size: Size of chunks to read (default: 4096)\n",
    "            \n",
    "        Returns:\n",
    "            Response object that can be used for streaming\n",
    "        \"\"\"\n",
    "        url = self.base_url + path\n",
    "        client_timeout = aiohttp.ClientTimeout(total=timeout or self.long_timeout)\n",
    "        \n",
    "        # For streaming, we need to create a session that will stay open\n",
    "        # The caller is responsible for closing the session when done\n",
    "        session = None\n",
    "        try:\n",
    "            session = aiohttp.ClientSession(timeout=client_timeout)\n",
    "            \n",
    "            response = await session.post(\n",
    "                url,\n",
    "                headers=headers,\n",
    "                json=payload,\n",
    "                ssl=None if not self.verify_ssl else True,\n",
    "                raise_for_status=False\n",
    "            )\n",
    "            \n",
    "            # Check for HTTP errors\n",
    "            if response.status >= 400:\n",
    "                logger.error(f\"Stream request failed: HTTP {response.status}\")\n",
    "                error_body = await response.text()\n",
    "                logger.error(f\"Error response: {error_body}\")\n",
    "                await session.close()\n",
    "                return None\n",
    "            \n",
    "            # Store session and chunk size on the response object for later use\n",
    "            response._session = session\n",
    "            response._chunk_size = chunk_size\n",
    "            return response\n",
    "                \n",
    "        except Exception as e:\n",
    "            logger.error(f\"Error in streaming request to {url}: {str(e)}\")\n",
    "            if session:\n",
    "                await session.close()\n",
    "            return None"
   ]
  }
 ],
 "metadata": {
  "kernelspec": {
   "display_name": "base",
   "language": "python",
   "name": "python3"
  },
  "language_info": {
   "codemirror_mode": {
    "name": "ipython",
    "version": 3
   },
   "file_extension": ".py",
   "mimetype": "text/x-python",
   "name": "python",
   "nbconvert_exporter": "python",
   "pygments_lexer": "ipython3",
   "version": "3.9.16"
  }
 },
 "nbformat": 4,
 "nbformat_minor": 2
}
