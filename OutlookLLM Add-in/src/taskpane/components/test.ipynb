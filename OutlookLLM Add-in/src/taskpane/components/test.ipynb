{
 "cells": [
  {
   "cell_type": "code",
   "execution_count": null,
   "metadata": {},
   "outputs": [],
   "source": [
    "    def generate_ect_prompts(self, ect: str, id_bb_company: str, html_prompt: str = \"\") -> List[Dict]:\n",
    "        \"\"\"Generate ECT analysis prompts\"\"\"\n",
    "        items = list(ECTConfig.HEADINGS.items())\n",
    "        bucket_size = 4\n",
    "        prompt_buckets = [items[i:i + bucket_size] for i in range(0, len(items), bucket_size)]\n",
    "        \n",
    "        prompts = []\n",
    "        for bucket_id, bucket in enumerate(prompt_buckets):\n",
    "            prompt_str = self._format_bucket_prompt(bucket, ect, html_prompt)\n",
    "            prompts.append({\n",
    "                \"prompt\": prompt_str,\n",
    "                \"company\": id_bb_company,\n",
    "                \"type\": \"ECT\",\n",
    "                \"bucket\": bucket_id,\n",
    "                \"model\": \"gpt-4o\"\n",
    "            })\n",
    "        return prompts\n",
    "\n",
    "    def _format_bucket_prompt(self, bucket: List[tuple], ect: str, html_prompt: str) -> str:\n",
    "        \"\"\"Format the prompt for each bucket\"\"\"\n",
    "        metric_count = len(bucket)\n",
    "        prompt = f\" Answer the following {metric_count} questions using content from the Earnings call text specified below. \"\n",
    "        prompt += \"Make sure to include all supporting information available in the text without repeating information.\\n\"\n",
    "        prompt += f\"Make sure the response is able to answer the {metric_count} questions below {html_prompt}\\n\"\n",
    "        \n",
    "        for i, (heading, metrics) in enumerate(bucket, 1):\n",
    "            metrics_str = \", \".join(metrics)\n",
    "            prompt += f\"{i}. How is the {metrics_str} of the company? \"\n",
    "            prompt += f\"Give an in-depth response under the sub-heading: {heading}. \"\n",
    "            prompt += \"Use up to 7 bullets to formulate the response.\\n\"\n",
    "            \n",
    "        prompt += f\"The Earnings call text is as follows: \\n{ect}\"\n",
    "        return prompt"
   ]
  },
  {
   "cell_type": "code",
   "execution_count": null,
   "metadata": {},
   "outputs": [],
   "source": []
  }
 ],
 "metadata": {
  "language_info": {
   "name": "python"
  }
 },
 "nbformat": 4,
 "nbformat_minor": 2
}
