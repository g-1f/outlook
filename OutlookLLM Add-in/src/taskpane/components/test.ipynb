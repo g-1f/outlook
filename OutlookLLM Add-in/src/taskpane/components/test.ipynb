{
 "cells": [
  {
   "cell_type": "code",
   "execution_count": null,
   "metadata": {},
   "outputs": [],
   "source": [
    "from bs4 import BeautifulSoup\n",
    "import re\n",
    "\n",
    "def parse(html):\n",
    "    if html:\n",
    "        html = re.sub(r'<!\\[_.*?\\]>', '', html)\n",
    "\n",
    "    try:\n",
    "        soup = BeautifulSoup(html, features=\"html.parser\")\n",
    "\n",
    "        # Process all XBRL namespaces\n",
    "        for namespace_url in [\n",
    "            \"http://www.xbrl.org/inlineXBRL/transformation/2010-04-25\",\n",
    "            \"http://www.xbrl.org/inlineXBRL/transformation/2011-07-31\",\n",
    "            \"http://www.xbrl.org/inlineXBRL/2.0\"\n",
    "        ]:\n",
    "            for ixbrl_element in soup.find_all(attrs={\"xmlns\": namespace_url}):\n",
    "                ixbrl_element.decompose()\n",
    "\n",
    "        for tag_name in [\"ix:nonNumeric\", \"ix:fraction\", \"ix:denominator\",\n",
    "                         \"ix:numerator\", \"ix:hidden\", \"ix:header\", \"ix:relationship\"]:\n",
    "            for ixbrl_element in soup.find_all(tag_name):\n",
    "                ixbrl_element.decompose()\n",
    "        for script in soup([\"script\", \"style\"]):\n",
    "            script.extract()\n",
    "\n",
    "        text = soup.body.get_text(separator=' ', strip=True) if soup.body else \"\"\n",
    "        cleaned_text = text.encode(\"ascii\", \"ignore\").decode()\n",
    "\n",
    "        return cleaned_text\n",
    "    except Exception as e:\n",
    "        print(f\"Standard parsing failed: {e}\")\n",
    "        try:\n",
    "            soup = BeautifulSoup(html, features=\"lxml\")\n",
    "            if soup.body:\n",
    "                text = soup.body.get_text(separator=' ', strip=True)\n",
    "                return text.encode(\"ascii\", \"ignore\").decode()\n",
    "            else:\n",
    "                return re.sub(r'<[^>]+>', ' ', html).encode(\"ascii\", \"ignore\").decode()\n",
    "        except Exception as fallback_e:\n",
    "            print(f\"Fallback parsing failed: {fallback_e}\")\n",
    "            return \"Parsing failed - content could not be processed\""
   ]
  },
  {
   "cell_type": "code",
   "execution_count": null,
   "metadata": {},
   "outputs": [],
   "source": []
  }
 ],
 "metadata": {
  "kernelspec": {
   "display_name": "base",
   "language": "python",
   "name": "python3"
  },
  "language_info": {
   "codemirror_mode": {
    "name": "ipython",
    "version": 3
   },
   "file_extension": ".py",
   "mimetype": "text/x-python",
   "name": "python",
   "nbconvert_exporter": "python",
   "pygments_lexer": "ipython3",
   "version": "3.9.16"
  }
 },
 "nbformat": 4,
 "nbformat_minor": 2
}
