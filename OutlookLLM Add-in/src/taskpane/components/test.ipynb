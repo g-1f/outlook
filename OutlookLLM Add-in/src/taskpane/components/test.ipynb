{
 "cells": [
  {
   "cell_type": "code",
   "execution_count": 4,
   "metadata": {},
   "outputs": [],
   "source": [
    "from pydantic import BaseModel, Field\n",
    "import json\n",
    "from enum import Enum\n",
    "from typing import Dict, List, Optional, Any, Union\n",
    "\n",
    "# Helper function to convert Pydantic schema to Gemini schema format\n",
    "def convert_to_gemini_schema(pydantic_schema: Dict[str, Any]) -> Dict[str, Any]:\n",
    "    gemini_schema = {}\n",
    "    \n",
    "    # Map type\n",
    "    if \"type\" in pydantic_schema:\n",
    "        gemini_schema[\"type\"] = pydantic_schema[\"type\"]\n",
    "    \n",
    "    # Map format if available\n",
    "    if \"format\" in pydantic_schema:\n",
    "        gemini_schema[\"format\"] = pydantic_schema[\"format\"]\n",
    "    \n",
    "    # Map description\n",
    "    if \"description\" in pydantic_schema:\n",
    "        gemini_schema[\"description\"] = pydantic_schema[\"description\"]\n",
    "    \n",
    "    # Map nullable (Pydantic uses 'nullable' in JSON Schema)\n",
    "    if any(ref == \"null\" for ref in pydantic_schema.get(\"anyOf\", [])):\n",
    "        gemini_schema[\"nullable\"] = True\n",
    "    \n",
    "    # Map enum values\n",
    "    if \"enum\" in pydantic_schema:\n",
    "        gemini_schema[\"enum\"] = pydantic_schema[\"enum\"]\n",
    "    \n",
    "    # Map array constraints\n",
    "    if \"maxItems\" in pydantic_schema:\n",
    "        gemini_schema[\"maxItems\"] = str(pydantic_schema[\"maxItems\"])\n",
    "    if \"minItems\" in pydantic_schema:\n",
    "        gemini_schema[\"minItems\"] = str(pydantic_schema[\"minItems\"])\n",
    "    \n",
    "    # Map properties\n",
    "    if \"properties\" in pydantic_schema:\n",
    "        gemini_schema[\"properties\"] = {}\n",
    "        for prop_name, prop_schema in pydantic_schema[\"properties\"].items():\n",
    "            gemini_schema[\"properties\"][prop_name] = convert_to_gemini_schema(prop_schema)\n",
    "    \n",
    "    # Map required fields\n",
    "    if \"required\" in pydantic_schema:\n",
    "        gemini_schema[\"required\"] = pydantic_schema[\"required\"]\n",
    "    \n",
    "    # Map items for arrays\n",
    "    if \"items\" in pydantic_schema:\n",
    "        gemini_schema[\"items\"] = convert_to_gemini_schema(pydantic_schema[\"items\"])\n",
    "    \n",
    "    # Add propertyOrdering if needed\n",
    "    if \"properties\" in pydantic_schema:\n",
    "        gemini_schema[\"propertyOrdering\"] = list(pydantic_schema[\"properties\"].keys())\n",
    "    \n",
    "    return gemini_schema"
   ]
  },
  {
   "cell_type": "code",
   "execution_count": null,
   "metadata": {},
   "outputs": [],
   "source": []
  }
 ],
 "metadata": {
  "kernelspec": {
   "display_name": "base",
   "language": "python",
   "name": "python3"
  },
  "language_info": {
   "codemirror_mode": {
    "name": "ipython",
    "version": 3
   },
   "file_extension": ".py",
   "mimetype": "text/x-python",
   "name": "python",
   "nbconvert_exporter": "python",
   "pygments_lexer": "ipython3",
   "version": "3.9.16"
  }
 },
 "nbformat": 4,
 "nbformat_minor": 2
}
