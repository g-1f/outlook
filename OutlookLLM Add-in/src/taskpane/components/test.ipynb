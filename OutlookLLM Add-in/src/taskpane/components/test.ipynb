{
 "cells": [
  {
   "cell_type": "code",
   "execution_count": null,
   "metadata": {},
   "outputs": [],
   "source": [
    "from trl import GRPOTrainer\n",
    "\n",
    "class GRPOTrainerNoPop(GRPOTrainer):\n",
    "    \"\"\"\n",
    "    This is a modified version of GRPOTrainer that doesn't pop from the prompt list, \n",
    "    which fixes issues with prompt reuse in GRPO training.\n",
    "    \"\"\"\n",
    "    \n",
    "    def _generate_and_score_completions(self, inputs):\n",
    "        \"\"\"\n",
    "        Modified version of _generate_and_score_completions that doesn't pop from prompts.\n",
    "        This change is in how completions are created for conversational data.\n",
    "        \"\"\"\n",
    "        # Call the parent class method to get all the results\n",
    "        result = super()._generate_and_score_completions(inputs)\n",
    "        \n",
    "        return result\n",
    "    \n",
    "    # Override the _maybe_apply_chat_template method if it exists to handle prompt manipulation\n",
    "    def _maybe_apply_chat_template(self, example, tokenizer):\n",
    "        \"\"\"Override if needed to handle prompt manipulation differently.\"\"\"\n",
    "        return super()._maybe_apply_chat_template(example, tokenizer) if hasattr(super(), '_maybe_apply_chat_template') else None"
   ]
  },
  {
   "cell_type": "code",
   "execution_count": null,
   "metadata": {},
   "outputs": [],
   "source": []
  }
 ],
 "metadata": {
  "kernelspec": {
   "display_name": "base",
   "language": "python",
   "name": "python3"
  },
  "language_info": {
   "codemirror_mode": {
    "name": "ipython",
    "version": 3
   },
   "file_extension": ".py",
   "mimetype": "text/x-python",
   "name": "python",
   "nbconvert_exporter": "python",
   "pygments_lexer": "ipython3",
   "version": "3.9.16"
  }
 },
 "nbformat": 4,
 "nbformat_minor": 2
}
