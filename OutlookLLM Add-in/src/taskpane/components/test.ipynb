{
 "cells": [
  {
   "cell_type": "code",
   "execution_count": null,
   "metadata": {},
   "outputs": [],
   "source": [
    "from bs4 import BeautifulSoup\n",
    "import re\n",
    "import concurrent.futures\n",
    "import pandas as pd\n",
    "\n",
    "def fast_parse(html):\n",
    "    if not html or not isinstance(html, str):\n",
    "        return \"\"\n",
    "    \n",
    "    # Use regex for the fastest approach - directly strip tags\n",
    "    # This avoids creating multiple BeautifulSoup objects\n",
    "    try:\n",
    "        # Remove scripts and style elements with regex\n",
    "        html = re.sub(r'<script[^>]*>.*?</script>', ' ', html, flags=re.DOTALL)\n",
    "        html = re.sub(r'<style[^>]*>.*?</style>', ' ', html, flags=re.DOTALL)\n",
    "        \n",
    "        # Remove all ix tags in one pass\n",
    "        html = re.sub(r'<ix:[^>]*>.*?</ix:[^>]*>', ' ', html, flags=re.DOTALL)\n",
    "        \n",
    "        # Strip remaining HTML tags\n",
    "        text = re.sub(r'<[^>]+>', ' ', html)\n",
    "        \n",
    "        # Clean up whitespace\n",
    "        text = re.sub(r'\\s+', ' ', text).strip()\n",
    "        \n",
    "        # Handle encoding\n",
    "        return text.encode(\"ascii\", \"ignore\").decode()\n",
    "    except Exception as e:\n",
    "        return f\"Error parsing: {str(e)[:50]}\"\n",
    "\n",
    "# Process in parallel for speed\n",
    "def parallel_parse(df, column='Contents', workers=4):\n",
    "    with concurrent.futures.ThreadPoolExecutor(max_workers=workers) as executor:\n",
    "        # Convert series to list for parallel processing\n",
    "        content_list = df[column].tolist()\n",
    "        results = list(executor.map(fast_parse, content_list))\n",
    "    \n",
    "    return pd.Series(results)\n",
    "\n",
    "# Usage:\n",
    "# df['parsed_text'] = parallel_parse(df)"
   ]
  },
  {
   "cell_type": "code",
   "execution_count": null,
   "metadata": {},
   "outputs": [],
   "source": []
  }
 ],
 "metadata": {
  "kernelspec": {
   "display_name": "base",
   "language": "python",
   "name": "python3"
  },
  "language_info": {
   "codemirror_mode": {
    "name": "ipython",
    "version": 3
   },
   "file_extension": ".py",
   "mimetype": "text/x-python",
   "name": "python",
   "nbconvert_exporter": "python",
   "pygments_lexer": "ipython3",
   "version": "3.9.16"
  }
 },
 "nbformat": 4,
 "nbformat_minor": 2
}
