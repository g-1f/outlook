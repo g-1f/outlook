{
 "cells": [
  {
   "cell_type": "code",
   "execution_count": null,
   "metadata": {},
   "outputs": [],
   "source": [
    "        class RewardModel(torch.nn.Module):\n",
    "            def __init__(self, base_model):\n",
    "                super().__init__()\n",
    "                self.base_model = base_model\n",
    "                self.score_head = torch.nn.Linear(base_model.config.hidden_size, 1)\n",
    "                \n",
    "            def forward(self, input_ids, attention_mask=None):\n",
    "                outputs = self.base_model(input_ids, attention_mask=attention_mask)\n",
    "                return outputs\n",
    "                \n",
    "            def to(self, device):\n",
    "                self.base_model = self.base_model.to(device)\n",
    "                self.score_head = self.score_head.to(device)\n",
    "                return self\n",
    "                \n",
    "            def score(self, hidden_states):\n",
    "                return self.score_head(hidden_states)\n",
    "        \n",
    "        # Create a base model for reward calculation\n",
    "        reward_base = AutoModelForCausalLM.from_pretrained(\n",
    "            model_name,\n",
    "            torch_dtype=torch.bfloat16,\n",
    "            device_map=\"auto\"\n",
    "        )\n",
    "        self.reward_model = RewardModel(reward_base)"
   ]
  }
 ],
 "metadata": {
  "kernelspec": {
   "display_name": "base",
   "language": "python",
   "name": "python3"
  },
  "language_info": {
   "codemirror_mode": {
    "name": "ipython",
    "version": 3
   },
   "file_extension": ".py",
   "mimetype": "text/x-python",
   "name": "python",
   "nbconvert_exporter": "python",
   "pygments_lexer": "ipython3",
   "version": "3.9.16"
  }
 },
 "nbformat": 4,
 "nbformat_minor": 2
}
