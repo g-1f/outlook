{
 "cells": [
  {
   "cell_type": "code",
   "execution_count": null,
   "metadata": {},
   "outputs": [],
   "source": [
    "    @staticmethod\n",
    "    async def process_async_response(response: Any) -> Optional[Any]:\n",
    "        \"\"\"\n",
    "        Process async API response with error handling.\n",
    "        \n",
    "        Args:\n",
    "            response: Async API response\n",
    "            \n",
    "        Returns:\n",
    "            Processed response or None\n",
    "        \"\"\"\n",
    "        if response is None:\n",
    "            logger.error(\"Failed to get async response after retries\")\n",
    "            return None\n",
    "        \n",
    "        # First, try to read the entire response content\n",
    "        try:\n",
    "            # Read the response content first\n",
    "            content = await response.read()\n",
    "            logger.debug(f\"Successfully read response content, length: {len(content)}\")\n",
    "            \n",
    "            # Then try to decode it as JSON\n",
    "            try:\n",
    "                return json.loads(content.decode('utf-8'))\n",
    "            except json.JSONDecodeError as e:\n",
    "                logger.error(f\"Error decoding JSON from response content: {e}\")\n",
    "                # Return the raw text if JSON parsing fails\n",
    "                return content.decode('utf-8', errors='replace')\n",
    "                \n",
    "        except aiohttp.ClientConnectionError as e:\n",
    "            logger.error(f\"Connection error while reading response: {e}\")\n",
    "            return {\"error\": \"Connection closed while reading response\"}\n",
    "        except aiohttp.ClientResponseError as e:\n",
    "            logger.error(f\"Response error: {e.status} {e.message}\")\n",
    "            return {\"error\": f\"HTTP error: {e.status} {e.message}\"}\n",
    "        except Exception as e:\n",
    "            logger.error(f\"Unexpected error processing async response: {e}\", exc_info=True)\n",
    "            return {\"error\": f\"Failed to process response: {str(e)}\"}\n",
    "        \n",
    "        return None"
   ]
  }
 ],
 "metadata": {
  "kernelspec": {
   "display_name": "base",
   "language": "python",
   "name": "python3"
  },
  "language_info": {
   "codemirror_mode": {
    "name": "ipython",
    "version": 3
   },
   "file_extension": ".py",
   "mimetype": "text/x-python",
   "name": "python",
   "nbconvert_exporter": "python",
   "pygments_lexer": "ipython3",
   "version": "3.9.16"
  }
 },
 "nbformat": 4,
 "nbformat_minor": 2
}
