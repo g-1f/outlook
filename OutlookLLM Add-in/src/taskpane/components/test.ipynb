{
 "cells": [
  {
   "cell_type": "code",
   "execution_count": null,
   "metadata": {},
   "outputs": [],
   "source": [
    "def register_update_tabs_callback(app, name):\n",
    "    @app.callback(\n",
    "        Output(\"file_tabs\" + name, \"tabs\"),\n",
    "        Output(\"file_tabs\" + name, \"children\"),\n",
    "        Input(\"uploaded-file\" + name, \"data\"),\n",
    "        Input(\"file_tabs\" + name, \"active_tab\"),\n",
    "    )\n",
    "    def update_tabs(data, active_tab):\n",
    "        if not data or not data[0]:\n",
    "            return [], []\n",
    "\n",
    "        file_urls, file_texts, file_names = data\n",
    "        tabs = []\n",
    "        for i, fname in enumerate(file_names):\n",
    "            tabs.append({\"id\": f\"tab{i+1}\", \"title\": fname})\n",
    "\n",
    "        if not active_tab:\n",
    "            active_tab = \"tab1\" + name\n",
    "        tab_index_str = active_tab.replace(\"tab\", \"\").replace(name, \"\")\n",
    "        try:\n",
    "            tab_id = int(tab_index_str) - 1\n",
    "        except ValueError:\n",
    "            tab_id = 0\n",
    "\n",
    "        if tab_id < 0 or tab_id >= len(file_urls):\n",
    "            return tabs, []\n",
    "\n",
    "        # If it's a PDF, we have a /pdf/ URL. If it's a TXT, could be None or something else\n",
    "        file_url = file_urls[tab_id]\n",
    "        child = []\n",
    "        if file_url is not None:\n",
    "            # We'll embed that route in an <iframe> or <object>\n",
    "            child = [\n",
    "                html.Iframe(\n",
    "                    src=file_url,  # e.g. \"/pdf/filename.pdf\"\n",
    "                    style={\"width\": \"100%\", \"height\": \"1000px\"}\n",
    "                )\n",
    "            ]\n",
    "\n",
    "        return tabs, child"
   ]
  }
 ],
 "metadata": {
  "kernelspec": {
   "display_name": "base_env",
   "language": "python",
   "name": "python3"
  },
  "language_info": {
   "codemirror_mode": {
    "name": "ipython",
    "version": 3
   },
   "file_extension": ".py",
   "mimetype": "text/x-python",
   "name": "python",
   "nbconvert_exporter": "python",
   "pygments_lexer": "ipython3",
   "version": "3.8.16"
  }
 },
 "nbformat": 4,
 "nbformat_minor": 2
}
