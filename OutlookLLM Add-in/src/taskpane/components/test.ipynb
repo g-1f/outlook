{
 "cells": [
  {
   "cell_type": "code",
   "execution_count": null,
   "metadata": {
    "vscode": {
     "languageId": "plaintext"
    }
   },
   "outputs": [],
   "source": [
    "from typing import Dict, List, Optional, Union, Literal\n",
    "from typing_extensions import TypeAlias\n",
    "from pydantic import BaseModel, Field\n",
    "from enum import Enum\n",
    "\n",
    "class Environment(str, Enum):\n",
    "    UAT = \"uat\"\n",
    "    PROD = \"prod\"\n",
    "\n",
    "class AnalysisSection(BaseModel):\n",
    "    key_points: List[str]\n",
    "    summary: str\n",
    "\n",
    "    class Config:\n",
    "        frozen = True\n",
    "\n",
    "class EarningsMetadata(BaseModel):\n",
    "    quarter_s: str\n",
    "    year_s: str\n",
    "    company_s: str\n",
    "    doc_type_s: str\n",
    "    tags_s: List[str]\n",
    "    event_time_s: str\n",
    "    companyId_s: str\n",
    "    tickers_s: List[str]\n",
    "    cusips_s: List[str]\n",
    "    isins_s: List[str]\n",
    "    sedols_s: List[str]\n",
    "    document_date_s: str\n",
    "    objecturl: Optional[str] = None\n",
    "\n",
    "    class Config:\n",
    "        frozen = True\n",
    "\n",
    "class AnalysisOutput(BaseModel):\n",
    "    analysis: Dict[str, AnalysisSection]\n",
    "    confidence: float = Field(..., ge=0, le=1)\n",
    "\n",
    "ErrorResponse: TypeAlias = Dict[Literal[\"error\"], str]\n",
    "ECTResponse: TypeAlias = Union[List[Dict[str, Union[dict, str]]], List[ErrorResponse]]"
   ]
  }
 ],
 "metadata": {
  "language_info": {
   "name": "python"
  }
 },
 "nbformat": 4,
 "nbformat_minor": 2
}
