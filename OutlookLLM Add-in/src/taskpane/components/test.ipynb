{
 "cells": [
  {
   "cell_type": "code",
   "execution_count": null,
   "metadata": {
    "vscode": {
     "languageId": "plaintext"
    }
   },
   "outputs": [],
   "source": [
    "class CompanyInfo(BaseModel):\n",
    "    sector: str\n",
    "    ranking: float\n",
    "    ticker: str\n",
    "    refinitive_id: str\n",
    "    name: str  # Adding name from bbg_cid_to_name_map\n",
    "\n",
    "class ConsensusData(BaseModel):\n",
    "    quarterly_growth: List[float]  # Next 4Q growth rates\n",
    "    period: str  # Quarter and year\n",
    "    \n",
    "    class Config:\n",
    "        frozen = True\n",
    "\n",
    "class RelationshipData(BaseModel):\n",
    "    company_info: CompanyInfo\n",
    "    consensus_data: Optional[ConsensusData]\n",
    "    ect_analysis: Optional[Dict[str, str]]\n",
    "    \n",
    "    class Config:\n",
    "        frozen = True\n",
    "\n",
    "class RelationshipAnalysis(BaseModel):\n",
    "    company_info: CompanyInfo\n",
    "    ranking: float\n",
    "    growth_next_4q: Optional[float]\n",
    "    analysis_metrics: Dict[str, str]  # Different metrics based on customer/supplier\n",
    "    period: str\n",
    "    sources: Optional[Dict[str, str]]\n",
    "    \n",
    "    class Config:\n",
    "        frozen = True"
   ]
  }
 ],
 "metadata": {
  "language_info": {
   "name": "python"
  }
 },
 "nbformat": 4,
 "nbformat_minor": 2
}
