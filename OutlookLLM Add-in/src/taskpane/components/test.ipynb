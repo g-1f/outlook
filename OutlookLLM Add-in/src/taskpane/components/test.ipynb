{
 "cells": [
  {
   "cell_type": "code",
   "execution_count": null,
   "metadata": {},
   "outputs": [],
   "source": [
    "from typing import Optional\n",
    "from functools import wraps\n",
    "import traceback\n",
    "\n",
    "class ECTError(Exception):\n",
    "    def __init__(self, message: str):\n",
    "        self.message = message\n",
    "        super().__init__(self.message)\n",
    "\n",
    "class DocumentNotFoundError(ECTError):\n",
    "    pass\n",
    "\n",
    "class ContentFetchError(ECTError):\n",
    "    pass\n",
    "\n",
    "class MetadataParsingError(ECTError):\n",
    "    pass\n",
    "\n",
    "class APIError(ECTError):\n",
    "    def __init__(self, message: str, status_code: Optional[int] = None):\n",
    "        self.status_code = status_code\n",
    "        super().__init__(message)\n",
    "\n",
    "def log_errors(logger):\n",
    "    def decorator(func):\n",
    "        @wraps(func)\n",
    "        async def wrapper(*args, **kwargs):\n",
    "            try:\n",
    "                return await func(*args, **kwargs)\n",
    "            except DocumentNotFoundError as e:\n",
    "                logger.error(\"Document not found\", error=e)\n",
    "                raise\n",
    "            except ContentFetchError as e:\n",
    "                logger.error(\"Failed to fetch content\", error=e)\n",
    "                raise\n",
    "            except MetadataParsingError as e:\n",
    "                logger.error(\"Failed to parse metadata\", error=e)\n",
    "                raise\n",
    "            except APIError as e:\n",
    "                logger.error(f\"API Error (status: {e.status_code})\", error=e)\n",
    "                raise\n",
    "            except Exception as e:\n",
    "                logger.error(\"Unexpected error\", error=e)\n",
    "                logger.debug(f\"Traceback: {traceback.format_exc()}\")\n",
    "                raise ECTError(f\"Unexpected error: {str(e)}\")\n",
    "        return wrapper\n",
    "    return decorator"
   ]
  },
  {
   "cell_type": "code",
   "execution_count": null,
   "metadata": {},
   "outputs": [],
   "source": []
  }
 ],
 "metadata": {
  "language_info": {
   "name": "python"
  }
 },
 "nbformat": 4,
 "nbformat_minor": 2
}
