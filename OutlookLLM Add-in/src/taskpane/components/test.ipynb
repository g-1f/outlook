{
 "cells": [
  {
   "cell_type": "code",
   "execution_count": null,
   "metadata": {},
   "outputs": [],
   "source": [
    "    content = await self.get_earnings_content(latest_doc)\n",
    "    if not content:\n",
    "        return [{\"error\": \"Could not fetch earnings content\"}]\n",
    "        \n",
    "    prompts = self.generate_ect_prompts(content, company_id)\n",
    "    responses = await self.execute_prompts(prompts)\n",
    "    \n",
    "    analysis_by_heading = {}\n",
    "    for response in responses:\n",
    "        if response[\"confidence\"] > 0.7:\n",
    "            analysis_by_heading[response[\"heading\"]] = response[\"result\"]\n",
    "            \n",
    "    return [{\n",
    "        \"metadata\": {\n",
    "            \"company\": latest_doc.company_s,\n",
    "            \"period\": f\"Q{latest_doc.quarter_s} {latest_doc.year_s}\",\n",
    "            \"date\": latest_doc.document_date_s\n",
    "        },\n",
    "        \"analysis\": analysis_by_heading\n",
    "    }]"
   ]
  }
 ],
 "metadata": {
  "language_info": {
   "name": "python"
  }
 },
 "nbformat": 4,
 "nbformat_minor": 2
}
