{
 "cells": [
  {
   "cell_type": "code",
   "execution_count": null,
   "metadata": {},
   "outputs": [],
   "source": [
    "class PromptExecutionError(ECTError):\n",
    "    pass\n",
    "\n",
    "class LLMError(ECTError):\n",
    "    pass\n",
    "\n",
    "class ModelResponseError(ECTError):\n",
    "    def __init__(self, message: str, confidence: float):\n",
    "        self.confidence = confidence\n",
    "        super().__init__(message)"
   ]
  },
  {
   "cell_type": "code",
   "execution_count": null,
   "metadata": {},
   "outputs": [],
   "source": []
  }
 ],
 "metadata": {
  "language_info": {
   "name": "python"
  }
 },
 "nbformat": 4,
 "nbformat_minor": 2
}
