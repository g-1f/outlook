{
 "cells": [
  {
   "cell_type": "code",
   "execution_count": null,
   "metadata": {
    "vscode": {
     "languageId": "plaintext"
    }
   },
   "outputs": [],
   "source": [
    "def _get_company_sector_and_ranking(self, bbg_cid: str) -> Tuple[str, float]:\n",
    "    \"\"\"Get company sector and ranking from customer/supplier data\"\"\"\n",
    "    # Check in customers\n",
    "    cust_struct = self.d[\"top customers final struct\"].get(bbg_cid, {})\n",
    "    for inner_data in cust_struct.values():\n",
    "        if isinstance(inner_data, dict) and \"sector\" in inner_data:\n",
    "            return inner_data[\"sector\"], inner_data.get(\"ranking\", 0.0)\n",
    "\n",
    "    # Check in suppliers\n",
    "    supp_struct = self.d[\"top suppliers final struct\"].get(bbg_cid, {})\n",
    "    for inner_data in supp_struct.values():\n",
    "        if isinstance(inner_data, dict) and \"sector\" in inner_data:\n",
    "            return inner_data[\"sector\"], inner_data.get(\"ranking\", 0.0)\n",
    "\n",
    "    return \"\", 0.0\n",
    "\n",
    "def get_company_info(self, bbg_cid: str) -> Optional[CompanyInfo]:\n",
    "    \"\"\"Get company information by Bloomberg ID\"\"\"\n",
    "    try:\n",
    "        ticker = self.bbg_cid_to_ticker(bbg_cid)\n",
    "        if not ticker:\n",
    "            return None\n",
    "\n",
    "        sector, ranking = self._get_company_sector_and_ranking(bbg_cid)\n",
    "            \n",
    "        return CompanyInfo(\n",
    "            sector=sector,\n",
    "            ranking=ranking,\n",
    "            ticker=ticker,\n",
    "            refinitive_id=self.d[\"bbg cid to refinitiv id map\"].get(bbg_cid, \"\"),\n",
    "            name=self.d[\"bbg cid to name map\"].get(bbg_cid, \"\")\n",
    "        )\n",
    "    except Exception as e:\n",
    "        print(f\"Error getting company info for {bbg_cid}: {e}\")\n",
    "        return None"
   ]
  }
 ],
 "metadata": {
  "language_info": {
   "name": "python"
  }
 },
 "nbformat": 4,
 "nbformat_minor": 2
}
