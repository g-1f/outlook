{
 "cells": [
  {
   "cell_type": "code",
   "execution_count": 1,
   "metadata": {},
   "outputs": [],
   "source": []
  },
  {
   "cell_type": "code",
   "execution_count": 3,
   "metadata": {},
   "outputs": [
    {
     "name": "stderr",
     "output_type": "stream",
     "text": [
      "Using custom data configuration main-f9306ececa7c2eca\n"
     ]
    },
    {
     "name": "stdout",
     "output_type": "stream",
     "text": [
      "Downloading and preparing dataset None/main to /Users/gyf/.cache/huggingface/datasets/openai___parquet/main-f9306ececa7c2eca/0.0.0/2a3b91fbd88a2c90d1dbbb32b460cf621d31bd5b05b934492fdef7d8d6f236ec...\n"
     ]
    },
    {
     "data": {
      "application/vnd.jupyter.widget-view+json": {
       "model_id": "dfaa2aed44324a83ad0df221bc94e3d6",
       "version_major": 2,
       "version_minor": 0
      },
      "text/plain": [
       "Downloading data files:   0%|          | 0/2 [00:00<?, ?it/s]"
      ]
     },
     "metadata": {},
     "output_type": "display_data"
    },
    {
     "data": {
      "application/vnd.jupyter.widget-view+json": {
       "model_id": "94fadd1218a84e63974c1614c1e46ef4",
       "version_major": 2,
       "version_minor": 0
      },
      "text/plain": [
       "Extracting data files:   0%|          | 0/2 [00:00<?, ?it/s]"
      ]
     },
     "metadata": {},
     "output_type": "display_data"
    },
    {
     "data": {
      "application/vnd.jupyter.widget-view+json": {
       "model_id": "96b1ebd2e3d3417b82e2b1712924444b",
       "version_major": 2,
       "version_minor": 0
      },
      "text/plain": [
       "Generating train split:   0%|          | 0/7473 [00:00<?, ? examples/s]"
      ]
     },
     "metadata": {},
     "output_type": "display_data"
    },
    {
     "data": {
      "application/vnd.jupyter.widget-view+json": {
       "model_id": "bd49bffcb842492696eabe60c389b1df",
       "version_major": 2,
       "version_minor": 0
      },
      "text/plain": [
       "Generating test split:   0%|          | 0/1319 [00:00<?, ? examples/s]"
      ]
     },
     "metadata": {},
     "output_type": "display_data"
    },
    {
     "name": "stdout",
     "output_type": "stream",
     "text": [
      "Dataset parquet downloaded and prepared to /Users/gyf/.cache/huggingface/datasets/openai___parquet/main-f9306ececa7c2eca/0.0.0/2a3b91fbd88a2c90d1dbbb32b460cf621d31bd5b05b934492fdef7d8d6f236ec. Subsequent calls will reuse this data.\n"
     ]
    },
    {
     "data": {
      "application/vnd.jupyter.widget-view+json": {
       "model_id": "08eee4d7c8e64550b8166c1a499efa33",
       "version_major": 2,
       "version_minor": 0
      },
      "text/plain": [
       "  0%|          | 0/2 [00:00<?, ?it/s]"
      ]
     },
     "metadata": {},
     "output_type": "display_data"
    },
    {
     "data": {
      "application/vnd.jupyter.widget-view+json": {
       "model_id": "cd2af3ef47094f0993deb488385a67dc",
       "version_major": 2,
       "version_minor": 0
      },
      "text/plain": [
       "  0%|          | 0/14946 [00:00<?, ?ex/s]"
      ]
     },
     "metadata": {},
     "output_type": "display_data"
    }
   ],
   "source": [
    "def register_update_tabs_callback(app, name):\n",
    "    @app.callback(\n",
    "        Output('file-tabs' + name, component_property='tabs'),\n",
    "        Output('file-tabs' + name, component_property='children'),\n",
    "        Input('uploaded-file' + name, component_property='data'),\n",
    "        Input('file-tabs' + name, component_property='active_tab'),\n",
    "    )\n",
    "    def update_tabs(data, active_tab):\n",
    "        try:\n",
    "            # Handle empty data case\n",
    "            if not data or not data[0]:\n",
    "                return [], []\n",
    "                \n",
    "            encoded_files, file_contents, file_names = data\n",
    "            \n",
    "            # Basic validation\n",
    "            if not isinstance(encoded_files, list) or not isinstance(file_names, list):\n",
    "                return [], []\n",
    "            \n",
    "            if len(encoded_files) != len(file_names):\n",
    "                return [], []\n",
    "                \n",
    "            # Create tabs list\n",
    "            tabs = [\n",
    "                {\n",
    "                    'id': f'tab{i + 1}' + name,\n",
    "                    'title': file_name\n",
    "                }\n",
    "                for i, file_name in enumerate(file_names)\n",
    "            ]\n",
    "            \n",
    "            # Create children list with proper iframe handling\n",
    "            children = []\n",
    "            for i, (encoded_file, file_name) in enumerate(zip(encoded_files, file_names)):\n",
    "                tab_id = f'tab{i + 1}' + name\n",
    "                \n",
    "                # Skip if encoded_file is empty or invalid\n",
    "                if not encoded_file:\n",
    "                    continue\n",
    "                    \n",
    "                # Handle different file types\n",
    "                if file_name.lower().endswith('.pdf'):\n",
    "                    # For PDFs, ensure we have proper data URI\n",
    "                    if not encoded_file.startswith('data:application/pdf;base64,'):\n",
    "                        # Fix missing header if needed\n",
    "                        if encoded_file.startswith('data:base64,'):\n",
    "                            encoded_file = encoded_file.replace('data:base64,', 'data:application/pdf;base64,')\n",
    "                        elif ';base64,' in encoded_file:\n",
    "                            encoded_file = 'data:application/pdf;base64,' + encoded_file.split(';base64,')[1]\n",
    "                \n",
    "                # Create iframe with improved styling and error handling\n",
    "                iframe = html.Iframe(\n",
    "                    id=f'output-data-upload-{tab_id}' + name,\n",
    "                    src=encoded_file,\n",
    "                    style={\n",
    "                        'width': '100%',\n",
    "                        'height': '1000px',\n",
    "                        'border': 'none',\n",
    "                        'overflow': 'auto'\n",
    "                    }\n",
    "                )\n",
    "                \n",
    "                children.append(iframe)\n",
    "            \n",
    "            # Validate we have matching tabs and children\n",
    "            if len(tabs) != len(children):\n",
    "                # Log error but return what we have\n",
    "                print(f\"Warning: Mismatch between tabs ({len(tabs)}) and children ({len(children)})\")\n",
    "                return tabs[:len(children)], children\n",
    "                \n",
    "            return tabs, children\n",
    "            \n",
    "        except Exception as e:\n",
    "            print(f\"Error in update_tabs: {str(e)}\")\n",
    "            # Return empty lists on error to maintain interface\n",
    "            return [], []"
   ]
  }
 ],
 "metadata": {
  "kernelspec": {
   "display_name": "base_env",
   "language": "python",
   "name": "python3"
  },
  "language_info": {
   "codemirror_mode": {
    "name": "ipython",
    "version": 3
   },
   "file_extension": ".py",
   "mimetype": "text/x-python",
   "name": "python",
   "nbconvert_exporter": "python",
   "pygments_lexer": "ipython3",
   "version": "3.8.16"
  }
 },
 "nbformat": 4,
 "nbformat_minor": 2
}
