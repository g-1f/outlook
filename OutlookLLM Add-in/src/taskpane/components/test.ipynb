{
 "cells": [
  {
   "cell_type": "code",
   "execution_count": null,
   "metadata": {},
   "outputs": [],
   "source": [
    "def _parse_date(doc_date: str) -> datetime:\n",
    "    try:\n",
    "        return datetime.strptime(doc_date, \"%Y-%m-%d\")\n",
    "    except (ValueError, TypeError):\n",
    "        return datetime.min\n",
    "\n",
    "def _get_latest_doc(documents: List[EarningsMetadata]) -> Optional[EarningsMetadata]:\n",
    "    if not documents:\n",
    "        return None\n",
    "    \n",
    "    valid_docs = [doc for doc in documents if doc.document_date_s]\n",
    "    if not valid_docs:\n",
    "        return None\n",
    "        \n",
    "    return max(valid_docs, key=lambda x: _parse_date(x.document_date_s))"
   ]
  }
 ],
 "metadata": {
  "language_info": {
   "name": "python"
  }
 },
 "nbformat": 4,
 "nbformat_minor": 2
}
