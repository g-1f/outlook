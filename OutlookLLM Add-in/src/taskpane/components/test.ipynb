{
 "cells": [
  {
   "cell_type": "code",
   "execution_count": null,
   "metadata": {},
   "outputs": [],
   "source": [
    "def update_tabs(data, active_tab):\n",
    "    if data[0]:  # If we have encoded files\n",
    "        encoded_files, file_contents, file_names = data\n",
    "        \n",
    "        # Create tabs\n",
    "        tabs = [{'id': f'tab{i + 1}{name}', 'title': file_names[i]} \n",
    "                for i in range(len(encoded_files))]\n",
    "        \n",
    "        # Create iframe children with proper data URI formatting\n",
    "        children = []\n",
    "        for i, encoded_file in enumerate(encoded_files):\n",
    "            # Ensure proper data URI formatting\n",
    "            if encoded_file and not encoded_file.startswith('data:'):\n",
    "                # Add proper PDF MIME type if missing\n",
    "                encoded_file = f'data:application/pdf;base64,{encoded_file}'\n",
    "            elif encoded_file and 'base64,' in encoded_file and 'data:' not in encoded_file:\n",
    "                encoded_file = f'data:application/pdf;base64,{encoded_file.split(\"base64,\")[1]}'\n",
    "                \n",
    "            iframe = html.Iframe(\n",
    "                id=f'output-data-upload-tab{i + 1}{name}',\n",
    "                src=encoded_file,\n",
    "                style={\n",
    "                    'height': '1000px',\n",
    "                    'width': '100%',\n",
    "                    'border': 'none',\n",
    "                    'overflow': 'auto'\n",
    "                }\n",
    "            )\n",
    "            children.append(iframe)\n",
    "            \n",
    "        tab_id = int(active_tab.replace('tab', '').replace(name, '')) - 1 if active_tab else 0\n",
    "        \n",
    "        return tabs, children\n",
    "        \n",
    "    return [], []"
   ]
  }
 ],
 "metadata": {
  "kernelspec": {
   "display_name": "base_env",
   "language": "python",
   "name": "python3"
  },
  "language_info": {
   "codemirror_mode": {
    "name": "ipython",
    "version": 3
   },
   "file_extension": ".py",
   "mimetype": "text/x-python",
   "name": "python",
   "nbconvert_exporter": "python",
   "pygments_lexer": "ipython3",
   "version": "3.8.16"
  }
 },
 "nbformat": 4,
 "nbformat_minor": 2
}
