{
 "cells": [
  {
   "cell_type": "code",
   "execution_count": null,
   "metadata": {},
   "outputs": [],
   "source": [
    "def setup_layout(name, ENV=\"DEV\"):\n",
    "    return dbc.Container([\n",
    "        uitk.HeaderAllIn(\n",
    "            menu_items=[{'type': 'outlined', 'id': \"unique_id\" + name}],\n",
    "            brand={'appName': f'{name} BYOD', 'envBadge': {'name': f'{ENV}'}},\n",
    "            search_expand_mode='none'\n",
    "        ),\n",
    "        html.Div(id='page-load-div' + name, style={'display': 'none'}),\n",
    "        dbc.Row([\n",
    "            dbc.Col([\n",
    "                dbc.Card([\n",
    "                    dcc.Upload(\n",
    "                        id='upload-data' + name,\n",
    "                        children=html.Div(['Drag and Drop or ', html.A('Select Files (.txt, .pdf)')]),\n",
    "                        style={\n",
    "                            'width': '100%',\n",
    "                            'height': '60px',\n",
    "                            'lineHeight': '60px',\n",
    "                            'borderWidth': '1px',\n",
    "                            'borderStyle': 'dashed',\n",
    "                            'borderRadius': '5px',\n",
    "                            'textAlign': 'center',\n",
    "                            'margin': '10px'\n",
    "                        },\n",
    "                        multiple=True\n",
    "                    ),\n",
    "                    uitk.DynamicTabs(id=\"file_tabs\" + name, active_tab=\"tab1\" + name, tabs=[{}]),\n",
    "                ], body=True)\n",
    "            ]),\n",
    "            dbc.Col([\n",
    "                dbc.Card([\n",
    "                    dcc.Store(id=\"store-conversation\" + name, data=\"\"),\n",
    "                    get_conversations_html(name),\n",
    "                    get_controls_html(name),\n",
    "                    dbc.Spinner(html.Div(id=\"loading-component\" + name))\n",
    "                ], body=True)\n",
    "            ], width=\"auto\"),\n",
    "        ]),\n",
    "        html.Div(id='hidden-div' + name, style={'display': 'none'}),\n",
    "        dbc.Spinner(\n",
    "            html.Div(\n",
    "                id='storing-file' + name,\n",
    "                children=[dcc.Store(id='uploaded-file' + name)],\n",
    "                style={'minHeight': '50px'}\n",
    "            )\n",
    "        )\n",
    "    ], fluid=True)"
   ]
  }
 ],
 "metadata": {
  "kernelspec": {
   "display_name": "base_env",
   "language": "python",
   "name": "python3"
  },
  "language_info": {
   "codemirror_mode": {
    "name": "ipython",
    "version": 3
   },
   "file_extension": ".py",
   "mimetype": "text/x-python",
   "name": "python",
   "nbconvert_exporter": "python",
   "pygments_lexer": "ipython3",
   "version": "3.8.16"
  }
 },
 "nbformat": 4,
 "nbformat_minor": 2
}
