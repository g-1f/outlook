{
 "cells": [
  {
   "cell_type": "code",
   "execution_count": null,
   "metadata": {},
   "outputs": [],
   "source": [
    "def format_reward_func(prompts, completions, **kwargs):\n",
    "    \"\"\"\n",
    "    Enhanced reward function that checks format and penalizes numbers\n",
    "    presented as strings in the macro state section\n",
    "    \"\"\"\n",
    "    step = kwargs.get(\"step\", 0)\n",
    "    \n",
    "    # Basic format pattern\n",
    "    pattern = r\"<macro state>.*?</macro state>.*?<reasoning>.*?</reasoning>.*?<positioning>.*?</positioning>\"\n",
    "    \n",
    "    # Pattern to detect numbers written as strings in macro state\n",
    "    number_as_string_pattern = r'<macro state>.*?(\\b(?:one|two|three|four|five|six|seven|eight|nine|ten|hundred|thousand|million|billion|point|percent|[0-9]+\\.[0-9]+%?)\\b).*?</macro state>'\n",
    "    \n",
    "    completion_contents = [\n",
    "        completion[0][\"content\"] if isinstance(completion[0], dict) else completion[0] \n",
    "        for completion in completions\n",
    "    ]\n",
    "    \n",
    "    rewards = []\n",
    "    format_valid_count = 0\n",
    "    number_as_string_count = 0\n",
    "    \n",
    "    for content in completion_contents:\n",
    "        # Check basic format\n",
    "        format_valid = re.search(pattern, content, re.DOTALL) is not None\n",
    "        \n",
    "        if format_valid:\n",
    "            format_valid_count += 1\n",
    "            \n",
    "            # Check for numbers as strings in macro state\n",
    "            has_number_as_string = re.search(number_as_string_pattern, content, re.DOTALL) is not None\n",
    "            \n",
    "            if has_number_as_string:\n",
    "                number_as_string_count += 1\n",
    "                # Penalize but still give some reward for correct format\n",
    "                rewards.append(1.0)  # Reduced reward (from 3.0 to 1.0)\n",
    "            else:\n",
    "                # Full reward for correct format without numbers as strings\n",
    "                rewards.append(3.0)\n",
    "        else:\n",
    "            # Penalty for incorrect format\n",
    "            rewards.append(-1.0)"
   ]
  }
 ],
 "metadata": {
  "kernelspec": {
   "display_name": "base",
   "language": "python",
   "name": "python3"
  },
  "language_info": {
   "codemirror_mode": {
    "name": "ipython",
    "version": 3
   },
   "file_extension": ".py",
   "mimetype": "text/x-python",
   "name": "python",
   "nbconvert_exporter": "python",
   "pygments_lexer": "ipython3",
   "version": "3.9.16"
  }
 },
 "nbformat": 4,
 "nbformat_minor": 2
}
