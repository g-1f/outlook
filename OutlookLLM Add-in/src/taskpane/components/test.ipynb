{
 "cells": [
  {
   "cell_type": "code",
   "execution_count": null,
   "metadata": {
    "vscode": {
     "languageId": "plaintext"
    }
   },
   "outputs": [],
   "source": [
    "import unittest\n",
    "from unittest.mock import Mock, patch\n",
    "\n",
    "class TestVespaManager(unittest.TestCase):\n",
    "    def setUp(self):\n",
    "        \"\"\"Setup basic test fixtures\"\"\"\n",
    "        self.schema_id = \"test_schema\"\n",
    "        self.env = \"test_env\"\n",
    "        self.s3_bucket_id = \"test_bucket\"\n",
    "        self.creds = {\"key\": \"value\"}\n",
    "        self.logging_dir = \"test_dir\"\n",
    "        \n",
    "        # Simple mock for S3\n",
    "        self.mock_s3 = Mock()\n",
    "        \n",
    "        # Create VespaManager instance\n",
    "        with patch('vespa_manager.S3', return_value=self.mock_s3):\n",
    "            self.manager = VespaManager(\n",
    "                self.schema_id,\n",
    "                self.env,\n",
    "                self.s3_bucket_id,\n",
    "                self.creds,\n",
    "                self.logging_dir\n",
    "            )\n",
    "\n",
    "    def test_move_to_permanent_failures(self):\n",
    "        \"\"\"Test moving a failed payload to permanent failures\"\"\"\n",
    "        # Test data\n",
    "        native_id = \"test123\"\n",
    "        payload = {\"data\": \"test_data\"}\n",
    "        \n",
    "        # Run the function\n",
    "        self.manager.move_to_permanent_failures(native_id, payload)\n",
    "        \n",
    "        # Check if S3 write_file was called correctly\n",
    "        expected_path = f\"{self.schema_id}/{self.logging_dir}/permanent_failures/{native_id}.json\"\n",
    "        self.mock_s3.write_file.assert_called_once()\n",
    "        call_args = self.mock_s3.write_file.call_args[0]\n",
    "        self.assertEqual(call_args[0], expected_path)\n",
    "\n",
    "    def test_get_failed_payloads_empty(self):\n",
    "        \"\"\"Test getting failed payloads when none exist\"\"\"\n",
    "        # Setup mock\n",
    "        self.mock_s3.file_exists.return_value = False\n",
    "        \n",
    "        # Run the function\n",
    "        result = self.manager.get_failed_payloads()\n",
    "        \n",
    "        # Verify result\n",
    "        self.assertEqual(result, {})\n",
    "\n",
    "    def test_get_failed_payloads_with_data(self):\n",
    "        \"\"\"Test getting failed payloads when they exist\"\"\"\n",
    "        # Setup mocks\n",
    "        self.mock_s3.file_exists.return_value = True\n",
    "        self.mock_s3.read_file.return_value = '{\"id1\": {\"status\": \"failed\"}}'\n",
    "        \n",
    "        # Run the function\n",
    "        result = self.manager.get_failed_payloads()\n",
    "        \n",
    "        # Verify result\n",
    "        self.assertEqual(result, {\"id1\": {\"status\": \"failed\"}})\n",
    "\n",
    "if __name__ == '__main__':\n",
    "    unittest.main()"
   ]
  }
 ],
 "metadata": {
  "language_info": {
   "name": "python"
  }
 },
 "nbformat": 4,
 "nbformat_minor": 2
}
